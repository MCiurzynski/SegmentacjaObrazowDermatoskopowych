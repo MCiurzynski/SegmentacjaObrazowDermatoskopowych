{
 "cells": [
  {
   "cell_type": "markdown",
   "id": "92d997e626a75b26",
   "metadata": {},
   "source": [
    "# Przegląd internetu"
   ]
  },
  {
   "cell_type": "markdown",
   "id": "6bcf261b78071842",
   "metadata": {},
   "source": [
    "## Zbiory danych"
   ]
  },
  {
   "cell_type": "markdown",
   "id": "d982addf94288864",
   "metadata": {},
   "source": [
    "Najlepszym źródłem obrazów dermatoskopowych jest International Skin Imaging Collaboration. Zawiera on olbrzymią ilość zdjęć pochodzących z różnych miejsc. Skupiłem się głównie na datasetach stworzonych do konkursów ISIC.\n",
    "Celem tych konkursów było stworzenie modeli które wykonują zadania najczęściej klasyfikacji zmiany jako czerniak, bądź klasyfikacji jako jeden z wielu nowotworów. Czerniak jest najniebezpieczniejszym nowotworem skóry dlatego największa uwaga skupiona jest na nim."
   ]
  },
  {
   "cell_type": "markdown",
   "id": "fcf090ed586b6f15",
   "metadata": {},
   "source": [
    "Spis konkursów:\n",
    "2024 - wykorzystanie zdjęć pochodzących z badań 3D TBP. Bardziej badanie przesiewowe. Klasyfikacja wielu typów zmian\n",
    "\n",
    "https://www.kaggle.com/competitions/isic-2024-challenge/overview\n",
    "\n",
    "2020 - wykorzystanie obrazów dermatoskopowych do klasyfikacji binarnej. Zdjęcia dokładniejsze.\n",
    "\n",
    "https://www.kaggle.com/c/siim-isic-melanoma-classification/overview\n",
    "\n",
    "2019 - obrazy dermatoskopowe do klasyfikacji wieloetykietowej.\n",
    "\n",
    "2018, 2017 - obrazy dermatoskopowe do klasyfikacji wieloetykietowej, segmentacja semantyczna oraz ekstrakcja atrybutów.\n",
    "\n",
    "2016 - obrazy dermatoskopowe do klasyfikacji binarnej, segmentacja semantyczna oraz ekstrakcja atrybutów.\n"
   ]
  },
  {
   "cell_type": "markdown",
   "id": "8bdd3de76eb07399",
   "metadata": {},
   "source": [
    "## Metody"
   ]
  },
  {
   "cell_type": "markdown",
   "id": "c6bde3bc80398a87",
   "metadata": {},
   "source": [
    "Metody analizy obrazów dermatoskopowych:\n",
    "- Sieci splotowe\n",
    "- EfficientNetB3\n",
    "- Wyznaczanie maski algorytmet Otsu\n",
    "- Ekstrakcja cech obrazu\n",
    "- Klasyczne modele klasyfikacji\n",
    "\n",
    "Metody redukcji wymiarowości:\n",
    "- PCA\n",
    "- LLE\n",
    "- LDA (Linear Discriminant Analysis)\n",
    "- KNN"
   ]
  },
  {
   "cell_type": "markdown",
   "id": "a208f3957baa1808",
   "metadata": {},
   "source": [
    "## Kod do analizy zdjęć"
   ]
  },
  {
   "cell_type": "markdown",
   "id": "b1ba66c97b3fa0f8",
   "metadata": {},
   "source": [
    "https://github.com/sayanth-t-m/skin-cancer-detection\n",
    "\n",
    "https://www.kaggle.com/code/greysky/isic-2024-only-tabular-data\n",
    "\n",
    "https://www.kaggle.com/code/cdeotte/triple-stratified-kfold-with-tfrecords"
   ]
  }
 ],
 "metadata": {
  "kernelspec": {
   "display_name": "Python 3",
   "language": "python",
   "name": "python3"
  },
  "language_info": {
   "codemirror_mode": {
    "name": "ipython",
    "version": 2
   },
   "file_extension": ".py",
   "mimetype": "text/x-python",
   "name": "python",
   "nbconvert_exporter": "python",
   "pygments_lexer": "ipython2",
   "version": "2.7.6"
  }
 },
 "nbformat": 4,
 "nbformat_minor": 5
}
